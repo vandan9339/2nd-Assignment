{
  "nbformat": 4,
  "nbformat_minor": 0,
  "metadata": {
    "colab": {
      "provenance": [],
      "authorship_tag": "ABX9TyN2RGU5DsQ31u8Fd8FLgazV",
      "include_colab_link": true
    },
    "kernelspec": {
      "name": "python3",
      "display_name": "Python 3"
    },
    "language_info": {
      "name": "python"
    }
  },
  "cells": [
    {
      "cell_type": "markdown",
      "metadata": {
        "id": "view-in-github",
        "colab_type": "text"
      },
      "source": [
        "<a href=\"https://colab.research.google.com/github/vandan9339/2nd-Assignment/blob/main/my_second_assignment.ipynb\" target=\"_parent\"><img src=\"https://colab.research.google.com/assets/colab-badge.svg\" alt=\"Open In Colab\"/></a>"
      ]
    },
    {
      "cell_type": "markdown",
      "source": [
        "***1. Discuss string slicing and provide examples.***\n",
        "\n",
        "Ans. String slicing is used to take out a particuler part of string.\n",
        "\n",
        "Examples:-"
      ],
      "metadata": {
        "id": "sDMRT6nw2JRj"
      }
    },
    {
      "cell_type": "code",
      "source": [
        "#here i just want to extract starting 4 characters\n",
        "a = \"vandan\"\n",
        "a"
      ],
      "metadata": {
        "colab": {
          "base_uri": "https://localhost:8080/",
          "height": 36
        },
        "id": "PiUfuPKjrAzn",
        "outputId": "77431a99-a394-48a5-a0a0-fad9fff9cc56"
      },
      "execution_count": null,
      "outputs": [
        {
          "output_type": "execute_result",
          "data": {
            "text/plain": [
              "'vandan'"
            ],
            "application/vnd.google.colaboratory.intrinsic+json": {
              "type": "string"
            }
          },
          "metadata": {},
          "execution_count": 3
        }
      ]
    },
    {
      "cell_type": "code",
      "source": [
        "a[0:4] #here syntax >> start index no.: end index number : steps, here end index number is exclusive"
      ],
      "metadata": {
        "colab": {
          "base_uri": "https://localhost:8080/",
          "height": 36
        },
        "id": "uETmmfQzreqw",
        "outputId": "ea937770-2dfb-4abd-ed64-9d3034eda61a"
      },
      "execution_count": null,
      "outputs": [
        {
          "output_type": "execute_result",
          "data": {
            "text/plain": [
              "'vand'"
            ],
            "application/vnd.google.colaboratory.intrinsic+json": {
              "type": "string"
            }
          },
          "metadata": {},
          "execution_count": 7
        }
      ]
    },
    {
      "cell_type": "code",
      "source": [
        "#if i do not put end index then it will complete string\n",
        "a = \"knowledge\""
      ],
      "metadata": {
        "id": "NBPuPyggrn_V"
      },
      "execution_count": null,
      "outputs": []
    },
    {
      "cell_type": "code",
      "source": [
        "a[0:]"
      ],
      "metadata": {
        "colab": {
          "base_uri": "https://localhost:8080/",
          "height": 36
        },
        "id": "AawRGATfsTXS",
        "outputId": "a480bc36-96c8-4a6e-b7c7-940cd8a6abef"
      },
      "execution_count": null,
      "outputs": [
        {
          "output_type": "execute_result",
          "data": {
            "text/plain": [
              "'knowledge'"
            ],
            "application/vnd.google.colaboratory.intrinsic+json": {
              "type": "string"
            }
          },
          "metadata": {},
          "execution_count": 10
        }
      ]
    },
    {
      "cell_type": "code",
      "source": [
        "#if i want to skip a character on every second step then\n",
        "a[0::2]"
      ],
      "metadata": {
        "colab": {
          "base_uri": "https://localhost:8080/",
          "height": 36
        },
        "id": "hXh15NyFserO",
        "outputId": "c5cd5ea3-c745-4c67-9fee-81017ee998a8"
      },
      "execution_count": null,
      "outputs": [
        {
          "output_type": "execute_result",
          "data": {
            "text/plain": [
              "'kolde'"
            ],
            "application/vnd.google.colaboratory.intrinsic+json": {
              "type": "string"
            }
          },
          "metadata": {},
          "execution_count": 11
        }
      ]
    },
    {
      "cell_type": "code",
      "source": [
        "#if i want last character then\n",
        "a = \"vandan\""
      ],
      "metadata": {
        "id": "S3GwsAdbsj_Q"
      },
      "execution_count": null,
      "outputs": []
    },
    {
      "cell_type": "code",
      "source": [
        "a[3:]"
      ],
      "metadata": {
        "colab": {
          "base_uri": "https://localhost:8080/",
          "height": 36
        },
        "id": "Gb-u_xWas0DM",
        "outputId": "e7a8efea-a10f-4a92-b344-87db2f9e4a1a"
      },
      "execution_count": null,
      "outputs": [
        {
          "output_type": "execute_result",
          "data": {
            "text/plain": [
              "'dan'"
            ],
            "application/vnd.google.colaboratory.intrinsic+json": {
              "type": "string"
            }
          },
          "metadata": {},
          "execution_count": 15
        }
      ]
    },
    {
      "cell_type": "code",
      "source": [
        "a =\"namaskar\""
      ],
      "metadata": {
        "id": "I35pzIOns2zm"
      },
      "execution_count": null,
      "outputs": []
    },
    {
      "cell_type": "code",
      "source": [
        "#if we do not put ant start index number then it will by default start with 0\n",
        "a[:4]"
      ],
      "metadata": {
        "colab": {
          "base_uri": "https://localhost:8080/",
          "height": 36
        },
        "id": "nzByoGOwtmSW",
        "outputId": "798ddec3-8ae5-47a1-90c6-a9eaaf1b57da"
      },
      "execution_count": null,
      "outputs": [
        {
          "output_type": "execute_result",
          "data": {
            "text/plain": [
              "'nama'"
            ],
            "application/vnd.google.colaboratory.intrinsic+json": {
              "type": "string"
            }
          },
          "metadata": {},
          "execution_count": 20
        }
      ]
    },
    {
      "cell_type": "code",
      "source": [
        "#if we want it reversal then we have to negative step number\n",
        "a[::-1]"
      ],
      "metadata": {
        "colab": {
          "base_uri": "https://localhost:8080/",
          "height": 36
        },
        "id": "a7ZtQn4Jt11w",
        "outputId": "414b00ac-539f-4398-9e47-d848099244b8"
      },
      "execution_count": null,
      "outputs": [
        {
          "output_type": "execute_result",
          "data": {
            "text/plain": [
              "'raksaman'"
            ],
            "application/vnd.google.colaboratory.intrinsic+json": {
              "type": "string"
            }
          },
          "metadata": {},
          "execution_count": 25
        }
      ]
    },
    {
      "cell_type": "markdown",
      "source": [
        "***2. Explain the key feature of lists in python.***\n",
        "\n",
        "Ans. Lists are ordered collection of items. Following are the main feature of lists.\n",
        "\n",
        "\n",
        "\n",
        "*   Lists are heterogenous, these can store any data type\n",
        "\n"
      ],
      "metadata": {
        "id": "yTTlorYE_IaE"
      }
    },
    {
      "cell_type": "code",
      "source": [
        "list1 = [\"Vandan\", 152, 152.5,\"orange\", 2j+5]\n",
        "list1"
      ],
      "metadata": {
        "colab": {
          "base_uri": "https://localhost:8080/"
        },
        "id": "Vr_LolFcD5xc",
        "outputId": "ed459324-29f6-447d-ca31-01871eb67b37"
      },
      "execution_count": null,
      "outputs": [
        {
          "output_type": "execute_result",
          "data": {
            "text/plain": [
              "['Vandan', 152, 152.5, 'orange', (5+2j)]"
            ]
          },
          "metadata": {},
          "execution_count": 2
        }
      ]
    },
    {
      "cell_type": "markdown",
      "source": [
        "Here we saw that in a list we store any data type like string, integers, float, complex number etc.\n",
        "\n"
      ],
      "metadata": {
        "id": "pvdPshh3EZvj"
      }
    },
    {
      "cell_type": "markdown",
      "source": [
        "\n",
        "\n",
        "*   Lists are mutable. We can change the lists after their creation.\n"
      ],
      "metadata": {
        "id": "eCvLn8-hEvi8"
      }
    },
    {
      "cell_type": "code",
      "source": [
        "list2 = [\"vandan\", \"ajay\", \"manoj\", \"sheetal\"]\n",
        "list2\n"
      ],
      "metadata": {
        "colab": {
          "base_uri": "https://localhost:8080/"
        },
        "id": "gfVSMhYLEMDZ",
        "outputId": "8bc9dcdd-f05d-44db-b613-52d2a00d9df1"
      },
      "execution_count": null,
      "outputs": [
        {
          "output_type": "execute_result",
          "data": {
            "text/plain": [
              "['vandan', 'ajay', 'manoj', 'sheetal']"
            ]
          },
          "metadata": {},
          "execution_count": 4
        }
      ]
    },
    {
      "cell_type": "code",
      "source": [
        "#now let's change sheetal to ravina\n",
        "list2[-1]"
      ],
      "metadata": {
        "colab": {
          "base_uri": "https://localhost:8080/",
          "height": 36
        },
        "id": "WaJmwAuXFHl3",
        "outputId": "adaf82e5-c228-4e7a-ca37-39e15b3f6a53"
      },
      "execution_count": null,
      "outputs": [
        {
          "output_type": "execute_result",
          "data": {
            "text/plain": [
              "'sheetal'"
            ],
            "application/vnd.google.colaboratory.intrinsic+json": {
              "type": "string"
            }
          },
          "metadata": {},
          "execution_count": 7
        }
      ]
    },
    {
      "cell_type": "code",
      "source": [
        "list2[-1] = \"Ravina\""
      ],
      "metadata": {
        "id": "M148cDGUFXNn"
      },
      "execution_count": null,
      "outputs": []
    },
    {
      "cell_type": "code",
      "source": [
        "list2"
      ],
      "metadata": {
        "colab": {
          "base_uri": "https://localhost:8080/"
        },
        "id": "oZ58HHm8F184",
        "outputId": "7b5af796-f95b-49f1-8f16-f25fa111cb3e"
      },
      "execution_count": null,
      "outputs": [
        {
          "output_type": "execute_result",
          "data": {
            "text/plain": [
              "['vandan', 'ajay', 'manoj', 'Ravina']"
            ]
          },
          "metadata": {},
          "execution_count": 9
        }
      ]
    },
    {
      "cell_type": "markdown",
      "source": [
        "Now it is prove that lists are mutable"
      ],
      "metadata": {
        "id": "JqH3cVpYF6BT"
      }
    },
    {
      "cell_type": "markdown",
      "source": [
        "\n",
        "\n",
        "*   Lists are ordered collection of elements which we can access through indexing.\n",
        "\n"
      ],
      "metadata": {
        "id": "t76h8aHBF_fT"
      }
    },
    {
      "cell_type": "code",
      "source": [
        "list1 = [5, 10, 15, \"vandan\", 2j+5]\n",
        "list1"
      ],
      "metadata": {
        "id": "ZS8Y19AMF4JT",
        "colab": {
          "base_uri": "https://localhost:8080/"
        },
        "outputId": "d693c041-bf95-4411-9a98-245d6e77d3f5"
      },
      "execution_count": null,
      "outputs": [
        {
          "output_type": "execute_result",
          "data": {
            "text/plain": [
              "[5, 10, 15, 'vandan', (5+2j)]"
            ]
          },
          "metadata": {},
          "execution_count": 1
        }
      ]
    },
    {
      "cell_type": "code",
      "source": [
        "list1[2]"
      ],
      "metadata": {
        "colab": {
          "base_uri": "https://localhost:8080/"
        },
        "id": "AWcguNO2MNZx",
        "outputId": "2b3ae774-2353-40a8-c454-b8974f09a2ae"
      },
      "execution_count": null,
      "outputs": [
        {
          "output_type": "execute_result",
          "data": {
            "text/plain": [
              "15"
            ]
          },
          "metadata": {},
          "execution_count": 2
        }
      ]
    },
    {
      "cell_type": "code",
      "source": [
        "list1[-1]"
      ],
      "metadata": {
        "colab": {
          "base_uri": "https://localhost:8080/"
        },
        "id": "Kn4nSKcmMhfB",
        "outputId": "b76d9671-b906-4191-cd41-6a7c43f829e9"
      },
      "execution_count": null,
      "outputs": [
        {
          "output_type": "execute_result",
          "data": {
            "text/plain": [
              "(5+2j)"
            ]
          },
          "metadata": {},
          "execution_count": 3
        }
      ]
    },
    {
      "cell_type": "markdown",
      "source": [
        "***3. Describe how to access, modify and delete elements in the lists.***\n",
        "\n",
        "Ans. In lists we access the elements by indexing. If we want to access the elements from starting then we can use 0 for first element, 1 for second element, 2 for third element and so on. And if we want to the access the elements from last then for first element from last we use -1, for second element from last we use -2, for third from last we can use -3 and so on.\n",
        "\n"
      ],
      "metadata": {
        "id": "5-TKi_HokueR"
      }
    },
    {
      "cell_type": "code",
      "source": [
        "list1 = [5, 10, 15, \"vandan\", \"puneet\", \"pwskills\", 2j+5]\n",
        "list1"
      ],
      "metadata": {
        "colab": {
          "base_uri": "https://localhost:8080/"
        },
        "id": "u9ITG55ol2ij",
        "outputId": "f25a70d6-510f-445c-ce8a-d2d389f3a2b8"
      },
      "execution_count": null,
      "outputs": [
        {
          "output_type": "execute_result",
          "data": {
            "text/plain": [
              "[5, 10, 15, 'vandan', 'puneet', 'pwskills', (5+2j)]"
            ]
          },
          "metadata": {},
          "execution_count": 44
        }
      ]
    },
    {
      "cell_type": "code",
      "source": [
        "# let's access the elements from starting\n",
        "list1[0]"
      ],
      "metadata": {
        "colab": {
          "base_uri": "https://localhost:8080/"
        },
        "id": "UJZ9Nfr7l_O3",
        "outputId": "159f8dba-e328-474a-dbbf-0226d21e7aa7"
      },
      "execution_count": null,
      "outputs": [
        {
          "output_type": "execute_result",
          "data": {
            "text/plain": [
              "5"
            ]
          },
          "metadata": {},
          "execution_count": 45
        }
      ]
    },
    {
      "cell_type": "code",
      "source": [
        "list1[1]"
      ],
      "metadata": {
        "colab": {
          "base_uri": "https://localhost:8080/"
        },
        "id": "5L834MRwmI1r",
        "outputId": "aae70dab-3c7f-44d0-9b00-8a36d5192035"
      },
      "execution_count": null,
      "outputs": [
        {
          "output_type": "execute_result",
          "data": {
            "text/plain": [
              "10"
            ]
          },
          "metadata": {},
          "execution_count": 46
        }
      ]
    },
    {
      "cell_type": "code",
      "source": [
        "list1[2]"
      ],
      "metadata": {
        "colab": {
          "base_uri": "https://localhost:8080/"
        },
        "id": "NM8ADwcdmNrV",
        "outputId": "72dfc074-a564-4fb5-86b2-c65fd7ca7b49"
      },
      "execution_count": null,
      "outputs": [
        {
          "output_type": "execute_result",
          "data": {
            "text/plain": [
              "15"
            ]
          },
          "metadata": {},
          "execution_count": 47
        }
      ]
    },
    {
      "cell_type": "code",
      "source": [
        "#let's access elements from the last\n",
        "list1[-1]"
      ],
      "metadata": {
        "colab": {
          "base_uri": "https://localhost:8080/"
        },
        "id": "6NIDL_6EmPR0",
        "outputId": "ae839a48-1008-4fe7-84c5-439da1aa7c33"
      },
      "execution_count": null,
      "outputs": [
        {
          "output_type": "execute_result",
          "data": {
            "text/plain": [
              "(5+2j)"
            ]
          },
          "metadata": {},
          "execution_count": 48
        }
      ]
    },
    {
      "cell_type": "code",
      "source": [
        "list1[-2]"
      ],
      "metadata": {
        "colab": {
          "base_uri": "https://localhost:8080/",
          "height": 36
        },
        "id": "TU-9kfgSmVeA",
        "outputId": "8421090c-3aa3-497c-8f6a-75d4e3e3a67b"
      },
      "execution_count": null,
      "outputs": [
        {
          "output_type": "execute_result",
          "data": {
            "text/plain": [
              "'pwskills'"
            ],
            "application/vnd.google.colaboratory.intrinsic+json": {
              "type": "string"
            }
          },
          "metadata": {},
          "execution_count": 49
        }
      ]
    },
    {
      "cell_type": "code",
      "source": [
        "list1[-3]"
      ],
      "metadata": {
        "colab": {
          "base_uri": "https://localhost:8080/",
          "height": 36
        },
        "id": "fKFlHlZHmYXs",
        "outputId": "eaf5489a-2bc3-4a85-ea83-d90088362107"
      },
      "execution_count": null,
      "outputs": [
        {
          "output_type": "execute_result",
          "data": {
            "text/plain": [
              "'puneet'"
            ],
            "application/vnd.google.colaboratory.intrinsic+json": {
              "type": "string"
            }
          },
          "metadata": {},
          "execution_count": 50
        }
      ]
    },
    {
      "cell_type": "markdown",
      "source": [
        "As we know that lists are mutable then we can modify the lists.\n"
      ],
      "metadata": {
        "id": "XOsy-GalmdSM"
      }
    },
    {
      "cell_type": "code",
      "source": [
        "#let's change punnet to vandan\n",
        "list1[4] = \"vandan\""
      ],
      "metadata": {
        "id": "c__kucG0mlCM"
      },
      "execution_count": null,
      "outputs": []
    },
    {
      "cell_type": "code",
      "source": [
        "list1"
      ],
      "metadata": {
        "colab": {
          "base_uri": "https://localhost:8080/"
        },
        "id": "9ULo0ihmmvY5",
        "outputId": "95d76755-6ed6-4b04-b48a-12ed84c92fa2"
      },
      "execution_count": null,
      "outputs": [
        {
          "output_type": "execute_result",
          "data": {
            "text/plain": [
              "[5, 10, 15, 'vandan', 'vandan', 'pwskills', (5+2j)]"
            ]
          },
          "metadata": {},
          "execution_count": 52
        }
      ]
    },
    {
      "cell_type": "code",
      "source": [
        "# by using .append we can add element to the list\n",
        "list1.append(\"data science\")"
      ],
      "metadata": {
        "id": "U7YKXtYFm0aV"
      },
      "execution_count": null,
      "outputs": []
    },
    {
      "cell_type": "code",
      "source": [
        "list1"
      ],
      "metadata": {
        "colab": {
          "base_uri": "https://localhost:8080/"
        },
        "id": "Y4yE_4CrnBp3",
        "outputId": "e8c69f7f-8954-410e-ce6b-58547eae5b84"
      },
      "execution_count": null,
      "outputs": [
        {
          "output_type": "execute_result",
          "data": {
            "text/plain": [
              "[5, 10, 15, 'vandan', 'vandan', 'pwskills', (5+2j), 'data science']"
            ]
          },
          "metadata": {},
          "execution_count": 54
        }
      ]
    },
    {
      "cell_type": "code",
      "source": [
        "# by using .insert we can add element at desired position\n",
        "list1.insert(-3, \"namrata\")\n",
        "# it will add namrata ahead of -3"
      ],
      "metadata": {
        "id": "yALMRCTUnDYD"
      },
      "execution_count": null,
      "outputs": []
    },
    {
      "cell_type": "code",
      "source": [
        "list1"
      ],
      "metadata": {
        "colab": {
          "base_uri": "https://localhost:8080/"
        },
        "id": "ir6n6rl7nQ-7",
        "outputId": "f9d228a6-31d5-4034-8557-03728ced3aa0"
      },
      "execution_count": null,
      "outputs": [
        {
          "output_type": "execute_result",
          "data": {
            "text/plain": [
              "[5, 10, 15, 'vandan', 'vandan', 'namrata', 'pwskills', (5+2j), 'data science']"
            ]
          },
          "metadata": {},
          "execution_count": 56
        }
      ]
    },
    {
      "cell_type": "code",
      "source": [
        "#we can also remove elements from the list using .remove\n",
        "list1.remove(\"vandan\")"
      ],
      "metadata": {
        "id": "5SUJkF2_nSTr"
      },
      "execution_count": null,
      "outputs": []
    },
    {
      "cell_type": "code",
      "source": [
        "list1"
      ],
      "metadata": {
        "colab": {
          "base_uri": "https://localhost:8080/"
        },
        "id": "I6UuPlecnjyH",
        "outputId": "260d26f9-b732-4395-b106-12cb31133db3"
      },
      "execution_count": null,
      "outputs": [
        {
          "output_type": "execute_result",
          "data": {
            "text/plain": [
              "[5, 10, 15, 'vandan', 'namrata', 'pwskills', (5+2j), 'data science']"
            ]
          },
          "metadata": {},
          "execution_count": 58
        }
      ]
    },
    {
      "cell_type": "code",
      "source": [
        "# by using .pop we can pick out elements from the list. we can use index number the element to pop it out\n",
        "list1.pop(1)\n"
      ],
      "metadata": {
        "colab": {
          "base_uri": "https://localhost:8080/"
        },
        "id": "ZR9IkkQtnk9X",
        "outputId": "de38fe22-e0dc-4af2-c175-1e42d5efd4e6"
      },
      "execution_count": null,
      "outputs": [
        {
          "output_type": "execute_result",
          "data": {
            "text/plain": [
              "10"
            ]
          },
          "metadata": {},
          "execution_count": 59
        }
      ]
    },
    {
      "cell_type": "code",
      "source": [
        "# poped element will be removes from list\n",
        "list1"
      ],
      "metadata": {
        "colab": {
          "base_uri": "https://localhost:8080/"
        },
        "id": "eVOmirNcnz9Q",
        "outputId": "4b95fb5c-ed2b-4143-ba60-c0fcebd7ef37"
      },
      "execution_count": null,
      "outputs": [
        {
          "output_type": "execute_result",
          "data": {
            "text/plain": [
              "[5, 15, 'vandan', 'namrata', 'pwskills', (5+2j), 'data science']"
            ]
          },
          "metadata": {},
          "execution_count": 60
        }
      ]
    },
    {
      "cell_type": "code",
      "source": [
        "list1"
      ],
      "metadata": {
        "colab": {
          "base_uri": "https://localhost:8080/"
        },
        "id": "fMKwy4OqoTB0",
        "outputId": "44d61afd-aef7-4fe6-ae3c-88c8968654f8"
      },
      "execution_count": null,
      "outputs": [
        {
          "output_type": "execute_result",
          "data": {
            "text/plain": [
              "[5, 15, 'vandan', 'namrata', 'pwskills', (5+2j), 'data science']"
            ]
          },
          "metadata": {},
          "execution_count": 61
        }
      ]
    },
    {
      "cell_type": "code",
      "source": [
        "#by using .clear we can clear the elements in the list\n",
        "list1.clear()\n",
        "list1"
      ],
      "metadata": {
        "colab": {
          "base_uri": "https://localhost:8080/"
        },
        "id": "O594cjCzo-9R",
        "outputId": "ea1c26ee-d532-4f74-a9d9-b078fb11a98b"
      },
      "execution_count": null,
      "outputs": [
        {
          "output_type": "execute_result",
          "data": {
            "text/plain": [
              "[]"
            ]
          },
          "metadata": {},
          "execution_count": 63
        }
      ]
    },
    {
      "cell_type": "code",
      "source": [
        "#by using del we can delete the list\n",
        "del list1"
      ],
      "metadata": {
        "id": "15XfR-PGpTk3"
      },
      "execution_count": null,
      "outputs": []
    },
    {
      "cell_type": "code",
      "source": [
        "list1"
      ],
      "metadata": {
        "colab": {
          "base_uri": "https://localhost:8080/",
          "height": 141
        },
        "id": "nNRQpn2Hpkmu",
        "outputId": "f51ce456-38ee-4d27-fcbb-0c804cee4182"
      },
      "execution_count": null,
      "outputs": [
        {
          "output_type": "error",
          "ename": "NameError",
          "evalue": "name 'list1' is not defined",
          "traceback": [
            "\u001b[0;31m---------------------------------------------------------------------------\u001b[0m",
            "\u001b[0;31mNameError\u001b[0m                                 Traceback (most recent call last)",
            "\u001b[0;32m<ipython-input-65-32e3a55f6bef>\u001b[0m in \u001b[0;36m<cell line: 1>\u001b[0;34m()\u001b[0m\n\u001b[0;32m----> 1\u001b[0;31m \u001b[0mlist1\u001b[0m\u001b[0;34m\u001b[0m\u001b[0;34m\u001b[0m\u001b[0m\n\u001b[0m",
            "\u001b[0;31mNameError\u001b[0m: name 'list1' is not defined"
          ]
        }
      ]
    },
    {
      "cell_type": "markdown",
      "source": [
        "Here we deleted the list."
      ],
      "metadata": {
        "id": "DmMyqmjEoWcK"
      }
    },
    {
      "cell_type": "markdown",
      "source": [
        "***4. Compare and contrast tuples and lists.***\n",
        "\n",
        "Ans. Lists and tuples are the ordered collection of elements. Both of the have similar properties but lists are mutable and tuples are immutable. let's understand their major similarities and difference through examples."
      ],
      "metadata": {
        "id": "9eom0-TXpqSp"
      }
    },
    {
      "cell_type": "code",
      "source": [
        "# list are stored in [] and tuples are stored in ()"
      ],
      "metadata": {
        "id": "qRcmS4D47Onz"
      },
      "execution_count": null,
      "outputs": []
    },
    {
      "cell_type": "code",
      "source": [
        "# tuples and lists both are heterogenous and contain any type of data type\n",
        "list1 = [5, 10, 15, \"vandan\", \"puneet\", \"pwskills\", 2.5, 2j+5]\n",
        "list1"
      ],
      "metadata": {
        "id": "yv_nDm9Mp8nf",
        "colab": {
          "base_uri": "https://localhost:8080/"
        },
        "outputId": "9ae6c77b-e9cb-4e13-9f59-17dbbe1ed88c"
      },
      "execution_count": null,
      "outputs": [
        {
          "output_type": "execute_result",
          "data": {
            "text/plain": [
              "[5, 10, 15, 'vandan', 'puneet', 'pwskills', 2.5, (5+2j)]"
            ]
          },
          "metadata": {},
          "execution_count": 4
        }
      ]
    },
    {
      "cell_type": "code",
      "source": [
        "tuple1 = (5, 10, 15, \"vandan\", \"puneet\", \"pwskills\", 2.5, 2j+5)\n",
        "tuple1"
      ],
      "metadata": {
        "colab": {
          "base_uri": "https://localhost:8080/"
        },
        "id": "khnmuyYK7IE9",
        "outputId": "19ced693-adf5-497b-a129-49860a9ff59b"
      },
      "execution_count": null,
      "outputs": [
        {
          "output_type": "execute_result",
          "data": {
            "text/plain": [
              "(5, 10, 15, 'vandan', 'puneet', 'pwskills', 2.5, (5+2j))"
            ]
          },
          "metadata": {},
          "execution_count": 5
        }
      ]
    },
    {
      "cell_type": "code",
      "source": [
        "# here are i stored same elements in tuple and list to show that both can contain any type of data type"
      ],
      "metadata": {
        "id": "m-z0naCo7f8k"
      },
      "execution_count": null,
      "outputs": []
    },
    {
      "cell_type": "code",
      "source": [
        "# lists and tuple both are ordered collection of elements so we can access through indexing\n",
        "list1"
      ],
      "metadata": {
        "colab": {
          "base_uri": "https://localhost:8080/"
        },
        "id": "6Xocm6wM7spQ",
        "outputId": "53fa16ed-d4f7-4322-c0a4-d64126cd654d"
      },
      "execution_count": null,
      "outputs": [
        {
          "output_type": "execute_result",
          "data": {
            "text/plain": [
              "[5, 10, 15, 'vandan', 'puneet', 'pwskills', 2.5, (5+2j)]"
            ]
          },
          "metadata": {},
          "execution_count": 7
        }
      ]
    },
    {
      "cell_type": "code",
      "source": [
        "list1[4]"
      ],
      "metadata": {
        "colab": {
          "base_uri": "https://localhost:8080/",
          "height": 36
        },
        "id": "RfiYSHpD8B-s",
        "outputId": "941f5949-ab21-49b0-e442-7e0c1e43a3f2"
      },
      "execution_count": null,
      "outputs": [
        {
          "output_type": "execute_result",
          "data": {
            "text/plain": [
              "'puneet'"
            ],
            "application/vnd.google.colaboratory.intrinsic+json": {
              "type": "string"
            }
          },
          "metadata": {},
          "execution_count": 8
        }
      ]
    },
    {
      "cell_type": "code",
      "source": [
        "list1[-1]"
      ],
      "metadata": {
        "colab": {
          "base_uri": "https://localhost:8080/"
        },
        "id": "KWgdwr_o8GCG",
        "outputId": "2478465a-9168-4040-fc05-1e499956ea5f"
      },
      "execution_count": null,
      "outputs": [
        {
          "output_type": "execute_result",
          "data": {
            "text/plain": [
              "(5+2j)"
            ]
          },
          "metadata": {},
          "execution_count": 9
        }
      ]
    },
    {
      "cell_type": "code",
      "source": [
        "list1[0]"
      ],
      "metadata": {
        "colab": {
          "base_uri": "https://localhost:8080/"
        },
        "id": "gO7q-joy8IMp",
        "outputId": "2e2cab42-214e-49be-a08c-ac3960d6b176"
      },
      "execution_count": null,
      "outputs": [
        {
          "output_type": "execute_result",
          "data": {
            "text/plain": [
              "5"
            ]
          },
          "metadata": {},
          "execution_count": 10
        }
      ]
    },
    {
      "cell_type": "code",
      "source": [
        "list1[-2]"
      ],
      "metadata": {
        "colab": {
          "base_uri": "https://localhost:8080/"
        },
        "id": "CjQtxXRd8KOh",
        "outputId": "e45d791a-fcdc-4588-b8f2-313f54e48277"
      },
      "execution_count": null,
      "outputs": [
        {
          "output_type": "execute_result",
          "data": {
            "text/plain": [
              "2.5"
            ]
          },
          "metadata": {},
          "execution_count": 11
        }
      ]
    },
    {
      "cell_type": "code",
      "source": [
        "# now in tuple\n",
        "tuple1"
      ],
      "metadata": {
        "colab": {
          "base_uri": "https://localhost:8080/"
        },
        "id": "0iN47q2s8erq",
        "outputId": "f83214f8-5bde-45b6-d343-322534fae6e1"
      },
      "execution_count": null,
      "outputs": [
        {
          "output_type": "execute_result",
          "data": {
            "text/plain": [
              "(5, 10, 15, 'vandan', 'puneet', 'pwskills', 2.5, (5+2j))"
            ]
          },
          "metadata": {},
          "execution_count": 14
        }
      ]
    },
    {
      "cell_type": "code",
      "source": [
        "tuple1[0]"
      ],
      "metadata": {
        "colab": {
          "base_uri": "https://localhost:8080/"
        },
        "id": "DeG7mCRu8L7T",
        "outputId": "85ed2eb0-6f82-4d02-b0a9-513d8570c0ad"
      },
      "execution_count": null,
      "outputs": [
        {
          "output_type": "execute_result",
          "data": {
            "text/plain": [
              "5"
            ]
          },
          "metadata": {},
          "execution_count": 12
        }
      ]
    },
    {
      "cell_type": "code",
      "source": [
        "tuple1[-1]"
      ],
      "metadata": {
        "colab": {
          "base_uri": "https://localhost:8080/"
        },
        "id": "EBi6YwZ48URF",
        "outputId": "8fcb9ec4-46d0-4cd8-8830-f569f4441c6b"
      },
      "execution_count": null,
      "outputs": [
        {
          "output_type": "execute_result",
          "data": {
            "text/plain": [
              "(5+2j)"
            ]
          },
          "metadata": {},
          "execution_count": 13
        }
      ]
    },
    {
      "cell_type": "code",
      "source": [
        "tuple1[4]"
      ],
      "metadata": {
        "colab": {
          "base_uri": "https://localhost:8080/",
          "height": 36
        },
        "id": "kvgEKJF48aMp",
        "outputId": "25d1cf12-8cc1-4204-d96f-d04c6519e1b5"
      },
      "execution_count": null,
      "outputs": [
        {
          "output_type": "execute_result",
          "data": {
            "text/plain": [
              "'puneet'"
            ],
            "application/vnd.google.colaboratory.intrinsic+json": {
              "type": "string"
            }
          },
          "metadata": {},
          "execution_count": 15
        }
      ]
    },
    {
      "cell_type": "code",
      "source": [
        "# now the major difference of lists and tuple is that lists are mutable but tuples are immutable\n",
        "list1"
      ],
      "metadata": {
        "colab": {
          "base_uri": "https://localhost:8080/"
        },
        "id": "V4NX4ih78lUM",
        "outputId": "cfa81f4d-3e05-4790-ed02-facf7603a655"
      },
      "execution_count": null,
      "outputs": [
        {
          "output_type": "execute_result",
          "data": {
            "text/plain": [
              "[5, 10, 15, 'vandan', 'puneet', 'pwskills', 2.5, (5+2j)]"
            ]
          },
          "metadata": {},
          "execution_count": 16
        }
      ]
    },
    {
      "cell_type": "code",
      "source": [
        "# now change pwskills tp physics wallah skills\n",
        "list1[5] = \"physics wallah skills\""
      ],
      "metadata": {
        "id": "2S7ZpMsD8zim"
      },
      "execution_count": null,
      "outputs": []
    },
    {
      "cell_type": "code",
      "source": [
        "list1"
      ],
      "metadata": {
        "colab": {
          "base_uri": "https://localhost:8080/"
        },
        "id": "h3C45q7X9Cjc",
        "outputId": "ed8d6614-f43f-47e4-98ac-6b7af57d0fab"
      },
      "execution_count": null,
      "outputs": [
        {
          "output_type": "execute_result",
          "data": {
            "text/plain": [
              "[5, 10, 15, 'vandan', 'puneet', 'physics wallah skills', 2.5, (5+2j)]"
            ]
          },
          "metadata": {},
          "execution_count": 18
        }
      ]
    },
    {
      "cell_type": "code",
      "source": [
        "# here it is done\n",
        "# let's try same operation in tuple\n",
        "tuple1"
      ],
      "metadata": {
        "colab": {
          "base_uri": "https://localhost:8080/"
        },
        "id": "B4u4i73Z9EH_",
        "outputId": "04713b83-cd56-4d33-d7fd-b6cb67e398e9"
      },
      "execution_count": null,
      "outputs": [
        {
          "output_type": "execute_result",
          "data": {
            "text/plain": [
              "(5, 10, 15, 'vandan', 'puneet', 'pwskills', 2.5, (5+2j))"
            ]
          },
          "metadata": {},
          "execution_count": 19
        }
      ]
    },
    {
      "cell_type": "code",
      "source": [
        "# now change pwskills tp physics wallah skills\n",
        "tuple1[5] = \"physics wallah skills\""
      ],
      "metadata": {
        "colab": {
          "base_uri": "https://localhost:8080/",
          "height": 158
        },
        "id": "KVriwfm19NT0",
        "outputId": "3db27b3b-7455-4f67-faa9-7a4b7db6ec91"
      },
      "execution_count": null,
      "outputs": [
        {
          "output_type": "error",
          "ename": "TypeError",
          "evalue": "'tuple' object does not support item assignment",
          "traceback": [
            "\u001b[0;31m---------------------------------------------------------------------------\u001b[0m",
            "\u001b[0;31mTypeError\u001b[0m                                 Traceback (most recent call last)",
            "\u001b[0;32m<ipython-input-20-652a38837f39>\u001b[0m in \u001b[0;36m<cell line: 2>\u001b[0;34m()\u001b[0m\n\u001b[1;32m      1\u001b[0m \u001b[0;31m# now change pwskills tp physics wallah skills\u001b[0m\u001b[0;34m\u001b[0m\u001b[0;34m\u001b[0m\u001b[0m\n\u001b[0;32m----> 2\u001b[0;31m \u001b[0mtuple1\u001b[0m\u001b[0;34m[\u001b[0m\u001b[0;36m5\u001b[0m\u001b[0;34m]\u001b[0m \u001b[0;34m=\u001b[0m \u001b[0;34m\"physics wallah skills\"\u001b[0m\u001b[0;34m\u001b[0m\u001b[0;34m\u001b[0m\u001b[0m\n\u001b[0m",
            "\u001b[0;31mTypeError\u001b[0m: 'tuple' object does not support item assignment"
          ]
        }
      ]
    },
    {
      "cell_type": "code",
      "source": [
        "# here it showed error because tuples are immutable"
      ],
      "metadata": {
        "id": "zOVyncnB9X9k"
      },
      "execution_count": null,
      "outputs": []
    },
    {
      "cell_type": "markdown",
      "source": [
        "***5. Describe the key features of sets and provide examples of their use.***\n",
        "\n",
        "Ans. Sets are unordered and unique collection of elements. Following the some key features sets.\n",
        "\n",
        "\n",
        "\n",
        "*   Sets are unique collection as it do not contain duplicate elements.\n",
        "\n"
      ],
      "metadata": {
        "id": "T9uYz9cI9fxU"
      }
    },
    {
      "cell_type": "code",
      "source": [
        "s = {5, 5, 10, 10, 10, \"vandan\", \"vandan\", \"puneet\", \"puneet\", \"pwskills\", \"pwskills\"}\n",
        "s"
      ],
      "metadata": {
        "id": "cArEQYSP93QK",
        "colab": {
          "base_uri": "https://localhost:8080/"
        },
        "outputId": "4278cbe8-da27-4f17-f69a-3801f18c1367"
      },
      "execution_count": null,
      "outputs": [
        {
          "output_type": "execute_result",
          "data": {
            "text/plain": [
              "{10, 5, 'puneet', 'pwskills', 'vandan'}"
            ]
          },
          "metadata": {},
          "execution_count": 2
        }
      ]
    },
    {
      "cell_type": "code",
      "source": [
        "type(s)"
      ],
      "metadata": {
        "colab": {
          "base_uri": "https://localhost:8080/"
        },
        "id": "iEb1dZXt5JX2",
        "outputId": "c350d029-a66a-454a-d3eb-76b7fe316a48"
      },
      "execution_count": null,
      "outputs": [
        {
          "output_type": "execute_result",
          "data": {
            "text/plain": [
              "set"
            ]
          },
          "metadata": {},
          "execution_count": 3
        }
      ]
    },
    {
      "cell_type": "code",
      "source": [
        "#as we see it removed all dusplicate elements"
      ],
      "metadata": {
        "id": "UhxbeZe95R-7"
      },
      "execution_count": null,
      "outputs": []
    },
    {
      "cell_type": "markdown",
      "source": [
        "\n",
        "\n",
        "*   Sets are unordered collection of elements so we can not access by indexing.\n",
        "\n"
      ],
      "metadata": {
        "id": "LgHyJC035jp3"
      }
    },
    {
      "cell_type": "code",
      "source": [
        "s = {5, 5, 10, 10, 10, \"vandan\", \"vandan\", \"puneet\", \"puneet\", \"pwskills\", \"pwskills\"}\n",
        "s"
      ],
      "metadata": {
        "id": "GfcT8FjF5Wc0",
        "colab": {
          "base_uri": "https://localhost:8080/"
        },
        "outputId": "7509d3d2-15b4-4d17-f131-510dc8f0d6d4"
      },
      "execution_count": null,
      "outputs": [
        {
          "output_type": "execute_result",
          "data": {
            "text/plain": [
              "{10, 5, 'puneet', 'pwskills', 'vandan'}"
            ]
          },
          "metadata": {},
          "execution_count": 1
        }
      ]
    },
    {
      "cell_type": "code",
      "source": [
        "s[1]"
      ],
      "metadata": {
        "colab": {
          "base_uri": "https://localhost:8080/",
          "height": 141
        },
        "id": "I_NqreuIgvZY",
        "outputId": "87a9cdcd-d2b8-4bef-d49d-52fc4343d6e6"
      },
      "execution_count": null,
      "outputs": [
        {
          "output_type": "error",
          "ename": "TypeError",
          "evalue": "'set' object is not subscriptable",
          "traceback": [
            "\u001b[0;31m---------------------------------------------------------------------------\u001b[0m",
            "\u001b[0;31mTypeError\u001b[0m                                 Traceback (most recent call last)",
            "\u001b[0;32m<ipython-input-2-f8bb2b116405>\u001b[0m in \u001b[0;36m<cell line: 1>\u001b[0;34m()\u001b[0m\n\u001b[0;32m----> 1\u001b[0;31m \u001b[0ms\u001b[0m\u001b[0;34m[\u001b[0m\u001b[0;36m1\u001b[0m\u001b[0;34m]\u001b[0m\u001b[0;34m\u001b[0m\u001b[0;34m\u001b[0m\u001b[0m\n\u001b[0m",
            "\u001b[0;31mTypeError\u001b[0m: 'set' object is not subscriptable"
          ]
        }
      ]
    },
    {
      "cell_type": "code",
      "source": [
        "#here it showed error that means sets are unordered"
      ],
      "metadata": {
        "id": "bHIEhveVgyPA"
      },
      "execution_count": null,
      "outputs": []
    },
    {
      "cell_type": "markdown",
      "source": [
        "\n",
        "\n",
        "*   Set inside set must be immutable.\n",
        "\n"
      ],
      "metadata": {
        "id": "Dq1EtJpmhqsU"
      }
    },
    {
      "cell_type": "code",
      "source": [
        "s = {5, 5, 10, 10, 10, \"vandan\", \"vandan\", \"puneet\", \"puneet\", \"pwskills\", 5, 10, 15, [\"vandan\", \"puneet\", \"pwskills\", 2.5, 2j+5]}\n",
        "s"
      ],
      "metadata": {
        "colab": {
          "base_uri": "https://localhost:8080/",
          "height": 158
        },
        "id": "kfbHNs0PhXlX",
        "outputId": "9429b496-c76a-4635-b1b0-e62a5bfd74ef"
      },
      "execution_count": null,
      "outputs": [
        {
          "output_type": "error",
          "ename": "TypeError",
          "evalue": "unhashable type: 'list'",
          "traceback": [
            "\u001b[0;31m---------------------------------------------------------------------------\u001b[0m",
            "\u001b[0;31mTypeError\u001b[0m                                 Traceback (most recent call last)",
            "\u001b[0;32m<ipython-input-4-4ba396678fd7>\u001b[0m in \u001b[0;36m<cell line: 1>\u001b[0;34m()\u001b[0m\n\u001b[0;32m----> 1\u001b[0;31m \u001b[0ms\u001b[0m \u001b[0;34m=\u001b[0m \u001b[0;34m{\u001b[0m\u001b[0;36m5\u001b[0m\u001b[0;34m,\u001b[0m \u001b[0;36m5\u001b[0m\u001b[0;34m,\u001b[0m \u001b[0;36m10\u001b[0m\u001b[0;34m,\u001b[0m \u001b[0;36m10\u001b[0m\u001b[0;34m,\u001b[0m \u001b[0;36m10\u001b[0m\u001b[0;34m,\u001b[0m \u001b[0;34m\"vandan\"\u001b[0m\u001b[0;34m,\u001b[0m \u001b[0;34m\"vandan\"\u001b[0m\u001b[0;34m,\u001b[0m \u001b[0;34m\"puneet\"\u001b[0m\u001b[0;34m,\u001b[0m \u001b[0;34m\"puneet\"\u001b[0m\u001b[0;34m,\u001b[0m \u001b[0;34m\"pwskills\"\u001b[0m\u001b[0;34m,\u001b[0m \u001b[0;36m5\u001b[0m\u001b[0;34m,\u001b[0m \u001b[0;36m10\u001b[0m\u001b[0;34m,\u001b[0m \u001b[0;36m15\u001b[0m\u001b[0;34m,\u001b[0m \u001b[0;34m[\u001b[0m\u001b[0;34m\"vandan\"\u001b[0m\u001b[0;34m,\u001b[0m \u001b[0;34m\"puneet\"\u001b[0m\u001b[0;34m,\u001b[0m \u001b[0;34m\"pwskills\"\u001b[0m\u001b[0;34m,\u001b[0m \u001b[0;36m2.5\u001b[0m\u001b[0;34m,\u001b[0m \u001b[0;36m2j\u001b[0m\u001b[0;34m+\u001b[0m\u001b[0;36m5\u001b[0m\u001b[0;34m]\u001b[0m\u001b[0;34m}\u001b[0m\u001b[0;34m\u001b[0m\u001b[0;34m\u001b[0m\u001b[0m\n\u001b[0m\u001b[1;32m      2\u001b[0m \u001b[0ms\u001b[0m\u001b[0;34m\u001b[0m\u001b[0;34m\u001b[0m\u001b[0m\n",
            "\u001b[0;31mTypeError\u001b[0m: unhashable type: 'list'"
          ]
        }
      ]
    },
    {
      "cell_type": "code",
      "source": [
        "#here it showed error because lists are mutable"
      ],
      "metadata": {
        "id": "zrYSCm2diPrh"
      },
      "execution_count": null,
      "outputs": []
    },
    {
      "cell_type": "code",
      "source": [
        "s = {5, 5, 10, 10, 10, \"vandan\", \"vandan\", \"puneet\", \"puneet\", \"pwskills\", 5, 10, 15, {5, 10, 15, \"vandan\", \"puneet\", \"pwskills\", 2.5, 2j+5}}\n"
      ],
      "metadata": {
        "colab": {
          "base_uri": "https://localhost:8080/",
          "height": 141
        },
        "id": "JJPQtqSdiY-H",
        "outputId": "f482d89f-9f19-4aa3-930f-1dce53ab5092"
      },
      "execution_count": null,
      "outputs": [
        {
          "output_type": "error",
          "ename": "TypeError",
          "evalue": "unhashable type: 'set'",
          "traceback": [
            "\u001b[0;31m---------------------------------------------------------------------------\u001b[0m",
            "\u001b[0;31mTypeError\u001b[0m                                 Traceback (most recent call last)",
            "\u001b[0;32m<ipython-input-6-92e1e89eac87>\u001b[0m in \u001b[0;36m<cell line: 1>\u001b[0;34m()\u001b[0m\n\u001b[0;32m----> 1\u001b[0;31m \u001b[0ms\u001b[0m \u001b[0;34m=\u001b[0m \u001b[0;34m{\u001b[0m\u001b[0;36m5\u001b[0m\u001b[0;34m,\u001b[0m \u001b[0;36m5\u001b[0m\u001b[0;34m,\u001b[0m \u001b[0;36m10\u001b[0m\u001b[0;34m,\u001b[0m \u001b[0;36m10\u001b[0m\u001b[0;34m,\u001b[0m \u001b[0;36m10\u001b[0m\u001b[0;34m,\u001b[0m \u001b[0;34m\"vandan\"\u001b[0m\u001b[0;34m,\u001b[0m \u001b[0;34m\"vandan\"\u001b[0m\u001b[0;34m,\u001b[0m \u001b[0;34m\"puneet\"\u001b[0m\u001b[0;34m,\u001b[0m \u001b[0;34m\"puneet\"\u001b[0m\u001b[0;34m,\u001b[0m \u001b[0;34m\"pwskills\"\u001b[0m\u001b[0;34m,\u001b[0m \u001b[0;36m5\u001b[0m\u001b[0;34m,\u001b[0m \u001b[0;36m10\u001b[0m\u001b[0;34m,\u001b[0m \u001b[0;36m15\u001b[0m\u001b[0;34m,\u001b[0m \u001b[0;34m{\u001b[0m\u001b[0;36m5\u001b[0m\u001b[0;34m,\u001b[0m \u001b[0;36m10\u001b[0m\u001b[0;34m,\u001b[0m \u001b[0;36m15\u001b[0m\u001b[0;34m,\u001b[0m \u001b[0;34m\"vandan\"\u001b[0m\u001b[0;34m,\u001b[0m \u001b[0;34m\"puneet\"\u001b[0m\u001b[0;34m,\u001b[0m \u001b[0;34m\"pwskills\"\u001b[0m\u001b[0;34m,\u001b[0m \u001b[0;36m2.5\u001b[0m\u001b[0;34m,\u001b[0m \u001b[0;36m2j\u001b[0m\u001b[0;34m+\u001b[0m\u001b[0;36m5\u001b[0m\u001b[0;34m}\u001b[0m\u001b[0;34m}\u001b[0m\u001b[0;34m\u001b[0m\u001b[0;34m\u001b[0m\u001b[0m\n\u001b[0m",
            "\u001b[0;31mTypeError\u001b[0m: unhashable type: 'set'"
          ]
        }
      ]
    },
    {
      "cell_type": "code",
      "source": [
        "#here it showed error because sets are mutable"
      ],
      "metadata": {
        "id": "tNjsORBlikst"
      },
      "execution_count": null,
      "outputs": []
    },
    {
      "cell_type": "code",
      "source": [
        "s = { 5, 10, 15, \"vandan\", \"puneet\", \"pwskills\", 2.5, 2j+5, (5, 10, 15, \"vandan\", \"puneet\", \"pwskills\", 2.5, 2j+5) }\n",
        "s"
      ],
      "metadata": {
        "colab": {
          "base_uri": "https://localhost:8080/"
        },
        "id": "BL-Bai3hivT3",
        "outputId": "27c89503-7cea-4be1-894f-c8eb2a273754"
      },
      "execution_count": null,
      "outputs": [
        {
          "output_type": "execute_result",
          "data": {
            "text/plain": [
              "{(5+2j),\n",
              " (5, 10, 15, 'vandan', 'puneet', 'pwskills', 2.5, (5+2j)),\n",
              " 10,\n",
              " 15,\n",
              " 2.5,\n",
              " 5,\n",
              " 'puneet',\n",
              " 'pwskills',\n",
              " 'vandan'}"
            ]
          },
          "metadata": {},
          "execution_count": 9
        }
      ]
    },
    {
      "cell_type": "code",
      "source": [
        "#here it didn't showed error because tuples are immutable"
      ],
      "metadata": {
        "id": "OF8g9VTSjHe-"
      },
      "execution_count": null,
      "outputs": []
    },
    {
      "cell_type": "markdown",
      "source": [
        "\n",
        "\n",
        "*   sets are mutable.\n"
      ],
      "metadata": {
        "id": "kiDa3zDKjXIY"
      }
    },
    {
      "cell_type": "code",
      "source": [
        "s.add(\"data science\") # to add elements to the sets"
      ],
      "metadata": {
        "id": "anpwg3gfjV9_"
      },
      "execution_count": null,
      "outputs": []
    },
    {
      "cell_type": "code",
      "source": [
        "s"
      ],
      "metadata": {
        "colab": {
          "base_uri": "https://localhost:8080/"
        },
        "id": "P25gbt-Sj1bT",
        "outputId": "aa46be80-675e-4b1e-b54a-cd26baaac81a"
      },
      "execution_count": null,
      "outputs": [
        {
          "output_type": "execute_result",
          "data": {
            "text/plain": [
              "{(5+2j),\n",
              " (5, 10, 15, 'vandan', 'puneet', 'pwskills', 2.5, (5+2j)),\n",
              " 10,\n",
              " 15,\n",
              " 2.5,\n",
              " 5,\n",
              " 'data science',\n",
              " 'puneet',\n",
              " 'pwskills',\n",
              " 'vandan'}"
            ]
          },
          "metadata": {},
          "execution_count": 12
        }
      ]
    },
    {
      "cell_type": "code",
      "source": [
        "s.pop() # to remove the elements randomly"
      ],
      "metadata": {
        "colab": {
          "base_uri": "https://localhost:8080/",
          "height": 36
        },
        "id": "MejLf3Q4j1yY",
        "outputId": "8bb2e125-3720-4dfb-a33d-eb9548109637"
      },
      "execution_count": null,
      "outputs": [
        {
          "output_type": "execute_result",
          "data": {
            "text/plain": [
              "'puneet'"
            ],
            "application/vnd.google.colaboratory.intrinsic+json": {
              "type": "string"
            }
          },
          "metadata": {},
          "execution_count": 15
        }
      ]
    },
    {
      "cell_type": "code",
      "source": [
        "s.remove(5 + 2j) # to remove the desired elements from the sets"
      ],
      "metadata": {
        "id": "pyeILQjDj7gg"
      },
      "execution_count": null,
      "outputs": []
    },
    {
      "cell_type": "code",
      "source": [
        "s"
      ],
      "metadata": {
        "colab": {
          "base_uri": "https://localhost:8080/"
        },
        "id": "Q5m1T0VckSC-",
        "outputId": "6381ac13-bc67-4543-ec6d-81a277fd9497"
      },
      "execution_count": null,
      "outputs": [
        {
          "output_type": "execute_result",
          "data": {
            "text/plain": [
              "{(5, 10, 15, 'vandan', 'puneet', 'pwskills', 2.5, (5+2j)),\n",
              " 10,\n",
              " 15,\n",
              " 5,\n",
              " 'data science',\n",
              " 'pwskills'}"
            ]
          },
          "metadata": {},
          "execution_count": 25
        }
      ]
    },
    {
      "cell_type": "code",
      "source": [
        "s.update(\"data science\") # update takes iteratable"
      ],
      "metadata": {
        "id": "7HcSVCPOkV04"
      },
      "execution_count": null,
      "outputs": []
    },
    {
      "cell_type": "code",
      "source": [
        "s"
      ],
      "metadata": {
        "colab": {
          "base_uri": "https://localhost:8080/"
        },
        "id": "cgR1x5Sck_gi",
        "outputId": "c83189f3-a895-40ed-e4db-7fa0750b59f2"
      },
      "execution_count": null,
      "outputs": [
        {
          "output_type": "execute_result",
          "data": {
            "text/plain": [
              "{' ',\n",
              " (5, 10, 15, 'vandan', 'puneet', 'pwskills', 2.5, (5+2j)),\n",
              " 10,\n",
              " 15,\n",
              " 5,\n",
              " 'a',\n",
              " 'c',\n",
              " 'd',\n",
              " 'data science',\n",
              " 'e',\n",
              " 'i',\n",
              " 'n',\n",
              " 'pwskills',\n",
              " 's',\n",
              " 't'}"
            ]
          },
          "metadata": {},
          "execution_count": 27
        }
      ]
    },
    {
      "cell_type": "code",
      "source": [
        "s.update([\"vandan\"]) # to add elements in one spell"
      ],
      "metadata": {
        "id": "Jcz6RJ54lHCu"
      },
      "execution_count": null,
      "outputs": []
    },
    {
      "cell_type": "code",
      "source": [
        "s"
      ],
      "metadata": {
        "colab": {
          "base_uri": "https://localhost:8080/"
        },
        "id": "xk9Vdi2AlW76",
        "outputId": "09b32807-e5d1-4d89-9b21-a5ff63bfd2f1"
      },
      "execution_count": null,
      "outputs": [
        {
          "output_type": "execute_result",
          "data": {
            "text/plain": [
              "{' ',\n",
              " (5, 10, 15, 'vandan', 'puneet', 'pwskills', 2.5, (5+2j)),\n",
              " 10,\n",
              " 15,\n",
              " 5,\n",
              " 'a',\n",
              " 'c',\n",
              " 'd',\n",
              " 'data science',\n",
              " 'e',\n",
              " 'i',\n",
              " 'n',\n",
              " 'pwskills',\n",
              " 's',\n",
              " 't',\n",
              " 'vandan'}"
            ]
          },
          "metadata": {},
          "execution_count": 29
        }
      ]
    },
    {
      "cell_type": "code",
      "source": [
        "s.clear() # to clear the sets"
      ],
      "metadata": {
        "id": "nbUnkLgllXmD"
      },
      "execution_count": null,
      "outputs": []
    },
    {
      "cell_type": "code",
      "source": [
        "s"
      ],
      "metadata": {
        "colab": {
          "base_uri": "https://localhost:8080/"
        },
        "id": "_88Exzwellta",
        "outputId": "22bd66e2-d769-49c8-93e6-dfad3b6b98cf"
      },
      "execution_count": null,
      "outputs": [
        {
          "output_type": "execute_result",
          "data": {
            "text/plain": [
              "set()"
            ]
          },
          "metadata": {},
          "execution_count": 31
        }
      ]
    },
    {
      "cell_type": "code",
      "source": [
        "s = {' ',\n",
        " (5, 10, 15, 'vandan', 'puneet', 'pwskills', 2.5, (5+2j)),\n",
        " 10,\n",
        " 15,\n",
        " 5,\n",
        " 'a',\n",
        " 'c',\n",
        " 'd',\n",
        " 'data science',\n",
        " 'e',\n",
        " 'i',\n",
        " 'n',\n",
        " 'pwskills',\n",
        " 's',\n",
        " 't'}\n"
      ],
      "metadata": {
        "id": "nAp_GD6jlmXF"
      },
      "execution_count": null,
      "outputs": []
    },
    {
      "cell_type": "code",
      "source": [
        "s. discard(\"pwskills\") # to remove the desired elements from the sets but it desired element not present it will not show an error"
      ],
      "metadata": {
        "id": "9YBOT3xvl1Zy"
      },
      "execution_count": null,
      "outputs": []
    },
    {
      "cell_type": "code",
      "source": [
        "s"
      ],
      "metadata": {
        "colab": {
          "base_uri": "https://localhost:8080/"
        },
        "id": "F22yXZuemEnL",
        "outputId": "b85730eb-bd85-48a1-c9b2-cedcb98df5b2"
      },
      "execution_count": null,
      "outputs": [
        {
          "output_type": "execute_result",
          "data": {
            "text/plain": [
              "{' ',\n",
              " (5, 10, 15, 'vandan', 'puneet', 'pwskills', 2.5, (5+2j)),\n",
              " 10,\n",
              " 15,\n",
              " 5,\n",
              " 'a',\n",
              " 'c',\n",
              " 'd',\n",
              " 'data science',\n",
              " 'e',\n",
              " 'i',\n",
              " 'n',\n",
              " 's',\n",
              " 't'}"
            ]
          },
          "metadata": {},
          "execution_count": 34
        }
      ]
    },
    {
      "cell_type": "code",
      "source": [
        "s.discard(\"pwskills\")"
      ],
      "metadata": {
        "id": "k8WxPvH_mFqR"
      },
      "execution_count": null,
      "outputs": []
    },
    {
      "cell_type": "code",
      "source": [
        "s.discard((5, 10, 15, 'vandan', 'puneet', 'pwskills', 2.5, (5+2j)))"
      ],
      "metadata": {
        "id": "r1ipmKtsmJcV"
      },
      "execution_count": null,
      "outputs": []
    },
    {
      "cell_type": "code",
      "source": [
        "s"
      ],
      "metadata": {
        "colab": {
          "base_uri": "https://localhost:8080/"
        },
        "id": "in0SawXBmPf6",
        "outputId": "74cc2131-5b09-4d32-b4b5-f5f836fb09ff"
      },
      "execution_count": null,
      "outputs": [
        {
          "output_type": "execute_result",
          "data": {
            "text/plain": [
              "{' ', 10, 15, 5, 'a', 'c', 'd', 'data science', 'e', 'i', 'n', 's', 't'}"
            ]
          },
          "metadata": {},
          "execution_count": 37
        }
      ]
    },
    {
      "cell_type": "markdown",
      "source": [
        "*** 6. Discuss the use case of tuples and sets in python programming.\n",
        "\n",
        "Ans. Tuples and sets are two data structure in Python. Tuples and sets both heterogenous type of data structure but tuples are ordered and sets unordered collection of data or elements. And tuples are immutable and sets are mutable.\n",
        "\n",
        "Let's se the use case of tuples.\n",
        "\n"
      ],
      "metadata": {
        "id": "v_NjNu7pmYOK"
      }
    },
    {
      "cell_type": "code",
      "source": [
        "# we can use tuples to stored immutable data that we don't want to change like employee id\n",
        "\n",
        "Employee_id = (101, 102, 103, 104, 105)"
      ],
      "metadata": {
        "id": "MZcRxRYfPEs4"
      },
      "execution_count": null,
      "outputs": []
    },
    {
      "cell_type": "code",
      "source": [
        "Employee_id"
      ],
      "metadata": {
        "colab": {
          "base_uri": "https://localhost:8080/"
        },
        "id": "vRASD9dfPnSY",
        "outputId": "65c286ac-94cb-4fec-cc18-cd7f9337f73b"
      },
      "execution_count": null,
      "outputs": [
        {
          "output_type": "execute_result",
          "data": {
            "text/plain": [
              "(101, 102, 103, 104, 105)"
            ]
          },
          "metadata": {},
          "execution_count": 3
        }
      ]
    },
    {
      "cell_type": "code",
      "source": [
        "#Now this data can't be changed\n",
        "Employee_id[0] = 106"
      ],
      "metadata": {
        "colab": {
          "base_uri": "https://localhost:8080/",
          "height": 158
        },
        "id": "8ZcrqN2DPqeu",
        "outputId": "f107c437-b47e-4d0b-b443-e14ca59ea199"
      },
      "execution_count": null,
      "outputs": [
        {
          "output_type": "error",
          "ename": "TypeError",
          "evalue": "'tuple' object does not support item assignment",
          "traceback": [
            "\u001b[0;31m---------------------------------------------------------------------------\u001b[0m",
            "\u001b[0;31mTypeError\u001b[0m                                 Traceback (most recent call last)",
            "\u001b[0;32m<ipython-input-4-dc328c3e7cb5>\u001b[0m in \u001b[0;36m<cell line: 2>\u001b[0;34m()\u001b[0m\n\u001b[1;32m      1\u001b[0m \u001b[0;31m#Now this data can't be changed\u001b[0m\u001b[0;34m\u001b[0m\u001b[0;34m\u001b[0m\u001b[0m\n\u001b[0;32m----> 2\u001b[0;31m \u001b[0mEmployee_id\u001b[0m\u001b[0;34m[\u001b[0m\u001b[0;36m0\u001b[0m\u001b[0;34m]\u001b[0m \u001b[0;34m=\u001b[0m \u001b[0;36m106\u001b[0m\u001b[0;34m\u001b[0m\u001b[0;34m\u001b[0m\u001b[0m\n\u001b[0m",
            "\u001b[0;31mTypeError\u001b[0m: 'tuple' object does not support item assignment"
          ]
        }
      ]
    },
    {
      "cell_type": "code",
      "source": [
        "#let's see ordered use of tuples\n",
        "#Here i make a tuple of entry of employee .... 1st comer is early first and last comer is last first.\n",
        "Employee_entry = (\"vandan\", \"puneet\", \"ajay\", \"sheetal\", \"manoj\", \"ravi\", \"naresh\")\n",
        "Employee_entry\n"
      ],
      "metadata": {
        "colab": {
          "base_uri": "https://localhost:8080/"
        },
        "id": "lehkgur9P5o_",
        "outputId": "54ace3b4-f3c1-44bf-958b-2de06380b6a5"
      },
      "execution_count": null,
      "outputs": [
        {
          "output_type": "execute_result",
          "data": {
            "text/plain": [
              "('vandan', 'puneet', 'ajay', 'sheetal', 'manoj', 'ravi', 'naresh')"
            ]
          },
          "metadata": {},
          "execution_count": 6
        }
      ]
    },
    {
      "cell_type": "code",
      "source": [
        "#here is a list of employee and vandan is first comer and naresh is last comer.\n",
        "#though ti is stored in a tuple these there sequence can't be changed.\n",
        "Employee_entry[0] = \"puneet\""
      ],
      "metadata": {
        "colab": {
          "base_uri": "https://localhost:8080/",
          "height": 176
        },
        "id": "Lp5pTYyPQpI6",
        "outputId": "1220d7cf-d0b3-4605-acf6-45f8c6886daf"
      },
      "execution_count": null,
      "outputs": [
        {
          "output_type": "error",
          "ename": "TypeError",
          "evalue": "'tuple' object does not support item assignment",
          "traceback": [
            "\u001b[0;31m---------------------------------------------------------------------------\u001b[0m",
            "\u001b[0;31mTypeError\u001b[0m                                 Traceback (most recent call last)",
            "\u001b[0;32m<ipython-input-7-a2dc3ab73c45>\u001b[0m in \u001b[0;36m<cell line: 3>\u001b[0;34m()\u001b[0m\n\u001b[1;32m      1\u001b[0m \u001b[0;31m#here is a list of employee and vandan is first comer and naresh is last comer.\u001b[0m\u001b[0;34m\u001b[0m\u001b[0;34m\u001b[0m\u001b[0m\n\u001b[1;32m      2\u001b[0m \u001b[0;31m#though ti is stored in a tuple these there sequence can't be changed.\u001b[0m\u001b[0;34m\u001b[0m\u001b[0;34m\u001b[0m\u001b[0m\n\u001b[0;32m----> 3\u001b[0;31m \u001b[0mEmployee_entry\u001b[0m\u001b[0;34m[\u001b[0m\u001b[0;36m0\u001b[0m\u001b[0;34m]\u001b[0m \u001b[0;34m=\u001b[0m \u001b[0;34m\"puneet\"\u001b[0m\u001b[0;34m\u001b[0m\u001b[0;34m\u001b[0m\u001b[0m\n\u001b[0m",
            "\u001b[0;31mTypeError\u001b[0m: 'tuple' object does not support item assignment"
          ]
        }
      ]
    },
    {
      "cell_type": "markdown",
      "source": [
        "Now see some use cases of sets."
      ],
      "metadata": {
        "id": "YWPG3-6RRNhn"
      }
    },
    {
      "cell_type": "code",
      "source": [
        "Employee_name = {\"vandan\", \"puneet\", \"ajay\", \"sheetal\", \"manoj\", \"ravi\", \"naresh\"}\n",
        "Employee_name"
      ],
      "metadata": {
        "colab": {
          "base_uri": "https://localhost:8080/"
        },
        "id": "PiYh3gbXRKkS",
        "outputId": "68d83c34-3d1e-454e-fd11-6422723a5e61"
      },
      "execution_count": null,
      "outputs": [
        {
          "output_type": "execute_result",
          "data": {
            "text/plain": [
              "{'ajay', 'manoj', 'naresh', 'puneet', 'ravi', 'sheetal', 'vandan'}"
            ]
          },
          "metadata": {},
          "execution_count": 8
        }
      ]
    },
    {
      "cell_type": "code",
      "source": [
        "#now here is name of employees are stored and there is no whether they are in sequence or not\n",
        "# assume a new employee named kapil got placed in my company then i can easily add his name to the list because sets are mutable\n",
        "Employee_name.add(\"kapil\")"
      ],
      "metadata": {
        "id": "GtUkEWbbRfGV"
      },
      "execution_count": null,
      "outputs": []
    },
    {
      "cell_type": "code",
      "source": [
        "Employee_name"
      ],
      "metadata": {
        "colab": {
          "base_uri": "https://localhost:8080/"
        },
        "id": "dT1oeHYBSA0q",
        "outputId": "dc7839b0-99c2-44f1-dfeb-0420f6897fda"
      },
      "execution_count": null,
      "outputs": [
        {
          "output_type": "execute_result",
          "data": {
            "text/plain": [
              "{'ajay', 'kapil', 'manoj', 'naresh', 'puneet', 'ravi', 'sheetal', 'vandan'}"
            ]
          },
          "metadata": {},
          "execution_count": 10
        }
      ]
    },
    {
      "cell_type": "code",
      "source": [
        "# let's assume i added kapil two times in the list\n",
        "Employee_name.add(\"kapil\")"
      ],
      "metadata": {
        "id": "jg9-nEiMSDCs"
      },
      "execution_count": null,
      "outputs": []
    },
    {
      "cell_type": "code",
      "source": [
        "Employee_name.add(\"kapil\")"
      ],
      "metadata": {
        "id": "x2sOEVpuSR7j"
      },
      "execution_count": null,
      "outputs": []
    },
    {
      "cell_type": "code",
      "source": [
        "# here i added kapil two time in the list but in the sets i will show only one time because sets are unique collection it remove duplicate elements to make it mistake free\n",
        "Employee_name"
      ],
      "metadata": {
        "colab": {
          "base_uri": "https://localhost:8080/"
        },
        "id": "BeN-gbxFSWHN",
        "outputId": "54763257-3448-425d-e98d-32c6d7064529"
      },
      "execution_count": null,
      "outputs": [
        {
          "output_type": "execute_result",
          "data": {
            "text/plain": [
              "{'ajay', 'kapil', 'manoj', 'naresh', 'puneet', 'ravi', 'sheetal', 'vandan'}"
            ]
          },
          "metadata": {},
          "execution_count": 13
        }
      ]
    },
    {
      "cell_type": "markdown",
      "source": [
        "***7. Describe how to add, modify and delete elements in the dictionary in the dictionary.***\n",
        "\n",
        "Ans. Dictionary is a collection of key value pairs. In which keys are immutable and values are mutable. we can't do indexing but with the help of keys we can acces the elements.\n",
        "\n",
        "Let's see how to add element in the dictionary"
      ],
      "metadata": {
        "id": "VZxHWjKHS2Fp"
      }
    },
    {
      "cell_type": "code",
      "source": [
        "d = {\"name\": \"vandan\", \"email\":\"vandansharma9339@gmail.com\", \"contact\": 9509222278}\n",
        "d"
      ],
      "metadata": {
        "colab": {
          "base_uri": "https://localhost:8080/"
        },
        "id": "M-9KBpri60Nn",
        "outputId": "141cc48d-4e63-4305-f62f-58fd5f350f2d"
      },
      "execution_count": null,
      "outputs": [
        {
          "output_type": "execute_result",
          "data": {
            "text/plain": [
              "{'name': 'vandan',\n",
              " 'email': 'vandansharma9339@gmail.com',\n",
              " 'contact': 9509222278}"
            ]
          },
          "metadata": {},
          "execution_count": 38
        }
      ]
    },
    {
      "cell_type": "code",
      "source": [
        "# here it is a dictionary now i want to vandan's age and qualification\n",
        "# let's see how to add\n",
        "d[\"age\"] = 20"
      ],
      "metadata": {
        "id": "0y5GzifD7WWv"
      },
      "execution_count": null,
      "outputs": []
    },
    {
      "cell_type": "code",
      "source": [
        "d[\"qualification\"] = \"B.A\""
      ],
      "metadata": {
        "id": "h8ccAWb87mRj"
      },
      "execution_count": null,
      "outputs": []
    },
    {
      "cell_type": "code",
      "source": [
        "d"
      ],
      "metadata": {
        "colab": {
          "base_uri": "https://localhost:8080/"
        },
        "id": "gfWtK9RC7xUr",
        "outputId": "76590245-2617-485a-e291-62b8768018e6"
      },
      "execution_count": null,
      "outputs": [
        {
          "output_type": "execute_result",
          "data": {
            "text/plain": [
              "{'name': 'vandan',\n",
              " 'email': 'vandansharma9339@gmail.com',\n",
              " 'contact': 9509222278,\n",
              " 'age': 20,\n",
              " 'qualification': 'B.A'}"
            ]
          },
          "metadata": {},
          "execution_count": 41
        }
      ]
    },
    {
      "cell_type": "code",
      "source": [
        "#we can also use .update to add element in the dictionary\n",
        "d1 = {\"addresss\": \"pune\", \"course\": \"data science\", \"language\": \"python\",}\n",
        "d1"
      ],
      "metadata": {
        "colab": {
          "base_uri": "https://localhost:8080/"
        },
        "id": "CLDX6hyD7yHW",
        "outputId": "0fa886cd-246c-4b77-95e3-70e1432f4266"
      },
      "execution_count": null,
      "outputs": [
        {
          "output_type": "execute_result",
          "data": {
            "text/plain": [
              "{'addresss': 'pune', 'course': 'data science', 'language': 'python'}"
            ]
          },
          "metadata": {},
          "execution_count": 42
        }
      ]
    },
    {
      "cell_type": "code",
      "source": [
        "d.update(d1)"
      ],
      "metadata": {
        "id": "sYFLeeOX8-Wn"
      },
      "execution_count": null,
      "outputs": []
    },
    {
      "cell_type": "code",
      "source": [
        "d"
      ],
      "metadata": {
        "colab": {
          "base_uri": "https://localhost:8080/"
        },
        "id": "v7YX2dVR9Dns",
        "outputId": "d0fd6365-6730-4feb-e3e0-fc0cfa0c15fb"
      },
      "execution_count": null,
      "outputs": [
        {
          "output_type": "execute_result",
          "data": {
            "text/plain": [
              "{'name': 'vandan',\n",
              " 'email': 'vandansharma9339@gmail.com',\n",
              " 'contact': 9509222278,\n",
              " 'age': 20,\n",
              " 'qualification': 'B.A',\n",
              " 'addresss': 'pune',\n",
              " 'course': 'data science',\n",
              " 'language': 'python'}"
            ]
          },
          "metadata": {},
          "execution_count": 44
        }
      ]
    },
    {
      "cell_type": "markdown",
      "source": [
        "Now try to modify the dictionary"
      ],
      "metadata": {
        "id": "VwLEZ-DD9L3-"
      }
    },
    {
      "cell_type": "code",
      "source": [
        "# Assume vandan has changed his number to 9352764062 so\n",
        "d[\"contact\"] = 9352764062"
      ],
      "metadata": {
        "id": "QiGOm0MX9Q6f"
      },
      "execution_count": null,
      "outputs": []
    },
    {
      "cell_type": "code",
      "source": [
        "d"
      ],
      "metadata": {
        "colab": {
          "base_uri": "https://localhost:8080/"
        },
        "id": "RDIdsUok9btW",
        "outputId": "8c30ffc4-1e87-424d-a630-d5ac5fc3336d"
      },
      "execution_count": null,
      "outputs": [
        {
          "output_type": "execute_result",
          "data": {
            "text/plain": [
              "{'name': 'vandan',\n",
              " 'email': 'vandansharma9339@gmail.com',\n",
              " 'contact': 9352764062,\n",
              " 'age': 20,\n",
              " 'qualification': 'B.A',\n",
              " 'addresss': 'pune',\n",
              " 'course': 'data science',\n",
              " 'language': 'python'}"
            ]
          },
          "metadata": {},
          "execution_count": 46
        }
      ]
    },
    {
      "cell_type": "code",
      "source": [
        "# Assume vandan has shifted to hanumangarh\n",
        "d[\"addresss\"] = \"hanumangarh\""
      ],
      "metadata": {
        "id": "egZQx_OB9cRz"
      },
      "execution_count": null,
      "outputs": []
    },
    {
      "cell_type": "code",
      "source": [
        "d"
      ],
      "metadata": {
        "colab": {
          "base_uri": "https://localhost:8080/"
        },
        "id": "Sj2qYJjZ9i65",
        "outputId": "f8f283e6-a41e-45cd-d2a7-9b477058e737"
      },
      "execution_count": null,
      "outputs": [
        {
          "output_type": "execute_result",
          "data": {
            "text/plain": [
              "{'name': 'vandan',\n",
              " 'email': 'vandansharma9339@gmail.com',\n",
              " 'contact': 9352764062,\n",
              " 'age': 20,\n",
              " 'qualification': 'B.A',\n",
              " 'addresss': 'hanumangarh',\n",
              " 'course': 'data science',\n",
              " 'language': 'python'}"
            ]
          },
          "metadata": {},
          "execution_count": 48
        }
      ]
    },
    {
      "cell_type": "code",
      "source": [
        "# Assume vandan has now cleared M.A.\n",
        "d[\"qualification\"] = \"M.A\""
      ],
      "metadata": {
        "id": "7oMJ_-Ps9kJM"
      },
      "execution_count": null,
      "outputs": []
    },
    {
      "cell_type": "code",
      "source": [
        "d"
      ],
      "metadata": {
        "colab": {
          "base_uri": "https://localhost:8080/"
        },
        "id": "tzfWo1L-9vWB",
        "outputId": "cb5edc0e-8dcb-4d65-dc96-e84a0e04c4cd"
      },
      "execution_count": null,
      "outputs": [
        {
          "output_type": "execute_result",
          "data": {
            "text/plain": [
              "{'name': 'vandan',\n",
              " 'email': 'vandansharma9339@gmail.com',\n",
              " 'contact': 9352764062,\n",
              " 'age': 20,\n",
              " 'qualification': 'M.A',\n",
              " 'addresss': 'hanumangarh',\n",
              " 'course': 'data science',\n",
              " 'language': 'python'}"
            ]
          },
          "metadata": {},
          "execution_count": 50
        }
      ]
    },
    {
      "cell_type": "code",
      "source": [
        "# Assume vandan has changed his course and get digital marketing course\n",
        "d[\"course\"] = \"digital marketing\""
      ],
      "metadata": {
        "id": "sWszO3ZM9wDB"
      },
      "execution_count": null,
      "outputs": []
    },
    {
      "cell_type": "code",
      "source": [
        "d"
      ],
      "metadata": {
        "colab": {
          "base_uri": "https://localhost:8080/"
        },
        "id": "DzC1CQ8y98JR",
        "outputId": "f20bdf8c-ea1c-4373-9994-38ddaf690a07"
      },
      "execution_count": null,
      "outputs": [
        {
          "output_type": "execute_result",
          "data": {
            "text/plain": [
              "{'name': 'vandan',\n",
              " 'email': 'vandansharma9339@gmail.com',\n",
              " 'contact': 9352764062,\n",
              " 'age': 20,\n",
              " 'qualification': 'M.A',\n",
              " 'addresss': 'hanumangarh',\n",
              " 'course': 'digital marketing',\n",
              " 'language': 'python'}"
            ]
          },
          "metadata": {},
          "execution_count": 52
        }
      ]
    },
    {
      "cell_type": "markdown",
      "source": [
        "Now let's try to delete elements from the dictionary.\n",
        "\n",
        "Note :- if we delete the key then the value related to that key will also be deleted."
      ],
      "metadata": {
        "id": "bvrYMm_y9_LP"
      }
    },
    {
      "cell_type": "code",
      "source": [
        "# we can delete key using del [if we provide key name then it will delete key if we don't provide key name then it will delete dictionary]\n",
        "d"
      ],
      "metadata": {
        "colab": {
          "base_uri": "https://localhost:8080/"
        },
        "id": "8ilz_qnw98-K",
        "outputId": "6b0091f7-7c7c-46be-863d-75d0e379ee43"
      },
      "execution_count": null,
      "outputs": [
        {
          "output_type": "execute_result",
          "data": {
            "text/plain": [
              "{'name': 'vandan',\n",
              " 'email': 'vandansharma9339@gmail.com',\n",
              " 'contact': 9352764062,\n",
              " 'age': 20,\n",
              " 'qualification': 'M.A',\n",
              " 'addresss': 'hanumangarh',\n",
              " 'course': 'digital marketing',\n",
              " 'language': 'python'}"
            ]
          },
          "metadata": {},
          "execution_count": 53
        }
      ]
    },
    {
      "cell_type": "code",
      "source": [
        "del d[\"contact\"]"
      ],
      "metadata": {
        "id": "KmHpRlb4-ppM"
      },
      "execution_count": null,
      "outputs": []
    },
    {
      "cell_type": "code",
      "source": [
        "d"
      ],
      "metadata": {
        "colab": {
          "base_uri": "https://localhost:8080/"
        },
        "id": "Wd2imwDk-r_h",
        "outputId": "4638ede6-9afb-4484-ad83-971dbb4aa1eb"
      },
      "execution_count": null,
      "outputs": [
        {
          "output_type": "execute_result",
          "data": {
            "text/plain": [
              "{'name': 'vandan',\n",
              " 'email': 'vandansharma9339@gmail.com',\n",
              " 'age': 20,\n",
              " 'qualification': 'M.A',\n",
              " 'addresss': 'hanumangarh',\n",
              " 'course': 'digital marketing',\n",
              " 'language': 'python'}"
            ]
          },
          "metadata": {},
          "execution_count": 55
        }
      ]
    },
    {
      "cell_type": "code",
      "source": [
        "# contact has been cleared\n",
        "# we can also the key using pop>>>> that we pop out the described key and that key will be deleted from the dictionary.\n",
        "d.pop(\"course\")"
      ],
      "metadata": {
        "colab": {
          "base_uri": "https://localhost:8080/",
          "height": 36
        },
        "id": "RpAzYVv_-sl_",
        "outputId": "d6dcbaac-0180-4795-9821-680e59ab9946"
      },
      "execution_count": null,
      "outputs": [
        {
          "output_type": "execute_result",
          "data": {
            "text/plain": [
              "'digital marketing'"
            ],
            "application/vnd.google.colaboratory.intrinsic+json": {
              "type": "string"
            }
          },
          "metadata": {},
          "execution_count": 56
        }
      ]
    },
    {
      "cell_type": "code",
      "source": [
        "d"
      ],
      "metadata": {
        "colab": {
          "base_uri": "https://localhost:8080/"
        },
        "id": "PnT2MvE3-5gS",
        "outputId": "ab83aca8-b744-4665-a55b-f3d7b185138b"
      },
      "execution_count": null,
      "outputs": [
        {
          "output_type": "execute_result",
          "data": {
            "text/plain": [
              "{'name': 'vandan',\n",
              " 'email': 'vandansharma9339@gmail.com',\n",
              " 'age': 20,\n",
              " 'qualification': 'M.A',\n",
              " 'addresss': 'hanumangarh',\n",
              " 'language': 'python'}"
            ]
          },
          "metadata": {},
          "execution_count": 57
        }
      ]
    },
    {
      "cell_type": "code",
      "source": [
        "# we can clear the dictionary using .clear()\n",
        "d.clear()\n"
      ],
      "metadata": {
        "id": "ZC073c8s_CE4"
      },
      "execution_count": null,
      "outputs": []
    },
    {
      "cell_type": "code",
      "source": [
        "d"
      ],
      "metadata": {
        "colab": {
          "base_uri": "https://localhost:8080/"
        },
        "id": "-y3mvtko_Pnh",
        "outputId": "86cd7690-3b07-4e54-f5bb-23b419db20f1"
      },
      "execution_count": null,
      "outputs": [
        {
          "output_type": "execute_result",
          "data": {
            "text/plain": [
              "{}"
            ]
          },
          "metadata": {},
          "execution_count": 59
        }
      ]
    },
    {
      "cell_type": "code",
      "source": [
        "# we can also delete the dictionary using del"
      ],
      "metadata": {
        "id": "6vGLfW7h_dhr"
      },
      "execution_count": null,
      "outputs": []
    },
    {
      "cell_type": "code",
      "source": [
        "del d"
      ],
      "metadata": {
        "id": "WXtg_MMA_-SQ"
      },
      "execution_count": null,
      "outputs": []
    },
    {
      "cell_type": "code",
      "source": [
        "d"
      ],
      "metadata": {
        "colab": {
          "base_uri": "https://localhost:8080/",
          "height": 141
        },
        "id": "eQ-tneoJ__n7",
        "outputId": "920cc0d2-8ed9-4aa8-900d-1c32d1dffee4"
      },
      "execution_count": null,
      "outputs": [
        {
          "output_type": "error",
          "ename": "NameError",
          "evalue": "name 'd' is not defined",
          "traceback": [
            "\u001b[0;31m---------------------------------------------------------------------------\u001b[0m",
            "\u001b[0;31mNameError\u001b[0m                                 Traceback (most recent call last)",
            "\u001b[0;32m<ipython-input-62-e983f374794d>\u001b[0m in \u001b[0;36m<cell line: 1>\u001b[0;34m()\u001b[0m\n\u001b[0;32m----> 1\u001b[0;31m \u001b[0md\u001b[0m\u001b[0;34m\u001b[0m\u001b[0;34m\u001b[0m\u001b[0m\n\u001b[0m",
            "\u001b[0;31mNameError\u001b[0m: name 'd' is not defined"
          ]
        }
      ]
    },
    {
      "cell_type": "code",
      "source": [
        "#d is deleted now."
      ],
      "metadata": {
        "id": "tlt083LLAAK1"
      },
      "execution_count": null,
      "outputs": []
    },
    {
      "cell_type": "markdown",
      "source": [
        "***8. Discuss the importance of dictionary keys being immutable and provide examples.***\n",
        "\n",
        "Ans. In Python, dictionary keys must be immutable because the keys need to be hashable and maintain a consistent hash value throughout their lifetime.\n",
        "\n",
        "\n",
        "*   Dictionary keys are stored in a hash table, and each key's hash value\n",
        "determines its location. If keys were mutable and their values changed, the hash value would also change, leading to inconsistent lookups and unpredictable behavior.\n",
        "Immutable types like strings, numbers, and tuples have fixed hash values, making them reliable dictionary keys.\n",
        "\n",
        "*   Immutability ensures that the key remains consistent throughout its use in the dictionary. If keys could change, it would disrupt the mapping of keys to values, making it impossible to retrieve the correct value for a given key.\n"
      ],
      "metadata": {
        "id": "BfiQlzXjAFS4"
      }
    },
    {
      "cell_type": "code",
      "source": [
        "d = {\"name\": \"vandan\", \"email\":\"vandansharma9339@gmail.com\", \"contact\": 9509222278}"
      ],
      "metadata": {
        "id": "sdP-YTWCAEOI"
      },
      "execution_count": null,
      "outputs": []
    },
    {
      "cell_type": "code",
      "source": [
        "d"
      ],
      "metadata": {
        "colab": {
          "base_uri": "https://localhost:8080/"
        },
        "id": "muD5Z40_FvmT",
        "outputId": "67e36def-c0ff-40bf-c690-1d4e6ec347bd"
      },
      "execution_count": null,
      "outputs": [
        {
          "output_type": "execute_result",
          "data": {
            "text/plain": [
              "{'name': 'vandan',\n",
              " 'email': 'vandansharma9339@gmail.com',\n",
              " 'contact': 9509222278}"
            ]
          },
          "metadata": {},
          "execution_count": 65
        }
      ]
    },
    {
      "cell_type": "code",
      "source": [
        "#if we make keys mutable then it will show error\n",
        "d1 = {[1,2,3]: [3,2,1]}"
      ],
      "metadata": {
        "colab": {
          "base_uri": "https://localhost:8080/",
          "height": 158
        },
        "id": "6cjFi5fNFwdn",
        "outputId": "5b8e45a7-ab00-4725-8526-f3de89cebd41"
      },
      "execution_count": null,
      "outputs": [
        {
          "output_type": "error",
          "ename": "TypeError",
          "evalue": "unhashable type: 'list'",
          "traceback": [
            "\u001b[0;31m---------------------------------------------------------------------------\u001b[0m",
            "\u001b[0;31mTypeError\u001b[0m                                 Traceback (most recent call last)",
            "\u001b[0;32m<ipython-input-68-67f822536e96>\u001b[0m in \u001b[0;36m<cell line: 2>\u001b[0;34m()\u001b[0m\n\u001b[1;32m      1\u001b[0m \u001b[0;31m#if we make keys mutable then it will show error\u001b[0m\u001b[0;34m\u001b[0m\u001b[0;34m\u001b[0m\u001b[0m\n\u001b[0;32m----> 2\u001b[0;31m \u001b[0md1\u001b[0m \u001b[0;34m=\u001b[0m \u001b[0;34m{\u001b[0m\u001b[0;34m[\u001b[0m\u001b[0;36m1\u001b[0m\u001b[0;34m,\u001b[0m\u001b[0;36m2\u001b[0m\u001b[0;34m,\u001b[0m\u001b[0;36m3\u001b[0m\u001b[0;34m]\u001b[0m\u001b[0;34m:\u001b[0m \u001b[0;34m[\u001b[0m\u001b[0;36m3\u001b[0m\u001b[0;34m,\u001b[0m\u001b[0;36m2\u001b[0m\u001b[0;34m,\u001b[0m\u001b[0;36m1\u001b[0m\u001b[0;34m]\u001b[0m\u001b[0;34m}\u001b[0m\u001b[0;34m\u001b[0m\u001b[0;34m\u001b[0m\u001b[0m\n\u001b[0m",
            "\u001b[0;31mTypeError\u001b[0m: unhashable type: 'list'"
          ]
        }
      ]
    }
  ]
}